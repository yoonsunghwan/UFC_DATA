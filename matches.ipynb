{
 "cells": [
  {
   "cell_type": "code",
   "execution_count": 1,
   "metadata": {},
   "outputs": [],
   "source": [
    "import sqlite3\n",
    "import os \n",
    "import pandas as pd\n",
    "pd.set_option('display.max_columns', None)"
   ]
  },
  {
   "cell_type": "code",
   "execution_count": 2,
   "metadata": {},
   "outputs": [
    {
     "data": {
      "text/plain": [
       "['.ipynb_checkpoints',\n",
       " 'event_details.csv',\n",
       " 'fighters.csv',\n",
       " 'fighters_df.ipynb',\n",
       " 'final_df.csv',\n",
       " 'Final_DF.ipynb',\n",
       " 'matches.ipynb',\n",
       " 'match_df.csv',\n",
       " 'scraper',\n",
       " 'Soupscraper.ipynb',\n",
       " 'Untitled.ipynb']"
      ]
     },
     "execution_count": 2,
     "metadata": {},
     "output_type": "execute_result"
    }
   ],
   "source": [
    "os.listdir()"
   ]
  },
  {
   "cell_type": "code",
   "execution_count": 3,
   "metadata": {},
   "outputs": [
    {
     "data": {
      "text/plain": [
       "['.idea', 'FIGHTscraper', 'ufcfights.db', 'UFCscraper', 'venv']"
      ]
     },
     "execution_count": 3,
     "metadata": {},
     "output_type": "execute_result"
    }
   ],
   "source": [
    "os.listdir('./scraper')"
   ]
  },
  {
   "cell_type": "code",
   "execution_count": 4,
   "metadata": {},
   "outputs": [],
   "source": [
    "conn = sqlite3.connect('./scraper/ufcfights.db')\n",
    "curr = conn.cursor()"
   ]
  },
  {
   "cell_type": "code",
   "execution_count": 5,
   "metadata": {},
   "outputs": [
    {
     "name": "stdout",
     "output_type": "stream",
     "text": [
      "[('fighters_tb',), ('fight_tb',), ('fight_stats_tb',)]\n"
     ]
    }
   ],
   "source": [
    "curr.execute(\"\"\"SELECT name FROM sqlite_master WHERE type='table'\"\"\")\n",
    "fight_tables = curr.fetchall()\n",
    "print(fight_tables)"
   ]
  },
  {
   "cell_type": "code",
   "execution_count": 6,
   "metadata": {},
   "outputs": [],
   "source": [
    "fight_df = pd.read_sql_query(\"\"\"SELECT * FROM fight_tb\"\"\",conn)\n",
    "fight_stats = pd.read_sql_query(\"\"\"SELECT * FROM fight_stats_tb\"\"\",conn)\n",
    "#close the connection after use\n",
    "conn.close()"
   ]
  },
  {
   "cell_type": "markdown",
   "metadata": {},
   "source": [
    "## CLEANING FIGHT_DF\n",
    "> NO NULL VALUES  \n",
    "> CHANGE THE TIME FORMAT FROM MM:SS to SECONDS\n",
    "> CHANGE W/L to 1/0 "
   ]
  },
  {
   "cell_type": "code",
   "execution_count": 7,
   "metadata": {},
   "outputs": [
    {
     "data": {
      "text/html": [
       "<div>\n",
       "<style scoped>\n",
       "    .dataframe tbody tr th:only-of-type {\n",
       "        vertical-align: middle;\n",
       "    }\n",
       "\n",
       "    .dataframe tbody tr th {\n",
       "        vertical-align: top;\n",
       "    }\n",
       "\n",
       "    .dataframe thead th {\n",
       "        text-align: right;\n",
       "    }\n",
       "</style>\n",
       "<table border=\"1\" class=\"dataframe\">\n",
       "  <thead>\n",
       "    <tr style=\"text-align: right;\">\n",
       "      <th></th>\n",
       "      <th>fight_name</th>\n",
       "      <th>fighter1_name</th>\n",
       "      <th>fighter2_name</th>\n",
       "      <th>fighter1_outcome</th>\n",
       "      <th>fighter2_outcome</th>\n",
       "      <th>weight_bout</th>\n",
       "      <th>method</th>\n",
       "      <th>num_rounds</th>\n",
       "      <th>details</th>\n",
       "      <th>time</th>\n",
       "      <th>referee</th>\n",
       "    </tr>\n",
       "  </thead>\n",
       "  <tbody>\n",
       "    <tr>\n",
       "      <th>0</th>\n",
       "      <td>UFC Fight Night: Covington vs. Woodley</td>\n",
       "      <td>Tyson Nam</td>\n",
       "      <td>Jerome Rivera</td>\n",
       "      <td>W</td>\n",
       "      <td>L</td>\n",
       "      <td>Bantamweight Bout</td>\n",
       "      <td>KO/TKO</td>\n",
       "      <td>2</td>\n",
       "      <td>Punches to Head On Ground</td>\n",
       "      <td>0:34</td>\n",
       "      <td>Chris Tognoni</td>\n",
       "    </tr>\n",
       "    <tr>\n",
       "      <th>1</th>\n",
       "      <td>UFC 237: Namajunas vs. Andrade</td>\n",
       "      <td>Talita Bernardo</td>\n",
       "      <td>Viviane Araujo</td>\n",
       "      <td>L</td>\n",
       "      <td>W</td>\n",
       "      <td>Women's Bantamweight Bout</td>\n",
       "      <td>KO/TKO</td>\n",
       "      <td>3</td>\n",
       "      <td>Punch to Head At Distance</td>\n",
       "      <td>0:48</td>\n",
       "      <td>Fernando Portella</td>\n",
       "    </tr>\n",
       "    <tr>\n",
       "      <th>2</th>\n",
       "      <td>UFC 238: Cejudo vs. Moraes</td>\n",
       "      <td>Eddie Wineland</td>\n",
       "      <td>Grigory Popov</td>\n",
       "      <td>W</td>\n",
       "      <td>L</td>\n",
       "      <td>Bantamweight Bout</td>\n",
       "      <td>KO/TKO</td>\n",
       "      <td>2</td>\n",
       "      <td>Punch to Head At Distance</td>\n",
       "      <td>4:47</td>\n",
       "      <td>Kevin MacDonald</td>\n",
       "    </tr>\n",
       "    <tr>\n",
       "      <th>3</th>\n",
       "      <td>UFC 238: Cejudo vs. Moraes</td>\n",
       "      <td>Katlyn Chookagian</td>\n",
       "      <td>Joanne Calderwood</td>\n",
       "      <td>W</td>\n",
       "      <td>L</td>\n",
       "      <td>Women's Flyweight Bout</td>\n",
       "      <td>Decision - Unanimous</td>\n",
       "      <td>3</td>\n",
       "      <td></td>\n",
       "      <td>5:00</td>\n",
       "      <td>Dan Miragliotta</td>\n",
       "    </tr>\n",
       "    <tr>\n",
       "      <th>4</th>\n",
       "      <td>UFC 238: Cejudo vs. Moraes</td>\n",
       "      <td>Bevon Lewis</td>\n",
       "      <td>Darren Stewart</td>\n",
       "      <td>L</td>\n",
       "      <td>W</td>\n",
       "      <td>Middleweight Bout</td>\n",
       "      <td>Decision - Unanimous</td>\n",
       "      <td>3</td>\n",
       "      <td></td>\n",
       "      <td>5:00</td>\n",
       "      <td>Marc Goddard</td>\n",
       "    </tr>\n",
       "  </tbody>\n",
       "</table>\n",
       "</div>"
      ],
      "text/plain": [
       "                               fight_name      fighter1_name  \\\n",
       "0  UFC Fight Night: Covington vs. Woodley          Tyson Nam   \n",
       "1          UFC 237: Namajunas vs. Andrade    Talita Bernardo   \n",
       "2              UFC 238: Cejudo vs. Moraes     Eddie Wineland   \n",
       "3              UFC 238: Cejudo vs. Moraes  Katlyn Chookagian   \n",
       "4              UFC 238: Cejudo vs. Moraes        Bevon Lewis   \n",
       "\n",
       "       fighter2_name fighter1_outcome fighter2_outcome  \\\n",
       "0      Jerome Rivera                W                L   \n",
       "1     Viviane Araujo                L                W   \n",
       "2      Grigory Popov                W                L   \n",
       "3  Joanne Calderwood                W                L   \n",
       "4     Darren Stewart                L                W   \n",
       "\n",
       "                 weight_bout                method num_rounds  \\\n",
       "0          Bantamweight Bout                KO/TKO          2   \n",
       "1  Women's Bantamweight Bout                KO/TKO          3   \n",
       "2          Bantamweight Bout                KO/TKO          2   \n",
       "3     Women's Flyweight Bout  Decision - Unanimous          3   \n",
       "4          Middleweight Bout  Decision - Unanimous          3   \n",
       "\n",
       "                     details  time            referee  \n",
       "0  Punches to Head On Ground  0:34      Chris Tognoni  \n",
       "1  Punch to Head At Distance  0:48  Fernando Portella  \n",
       "2  Punch to Head At Distance  4:47    Kevin MacDonald  \n",
       "3                             5:00    Dan Miragliotta  \n",
       "4                             5:00       Marc Goddard  "
      ]
     },
     "execution_count": 7,
     "metadata": {},
     "output_type": "execute_result"
    }
   ],
   "source": [
    "fight_df.head()"
   ]
  },
  {
   "cell_type": "code",
   "execution_count": 8,
   "metadata": {},
   "outputs": [
    {
     "data": {
      "text/plain": [
       "fight_name          0\n",
       "fighter1_name       0\n",
       "fighter2_name       0\n",
       "fighter1_outcome    0\n",
       "fighter2_outcome    0\n",
       "weight_bout         0\n",
       "method              0\n",
       "num_rounds          0\n",
       "details             0\n",
       "time                0\n",
       "referee             0\n",
       "dtype: int64"
      ]
     },
     "execution_count": 8,
     "metadata": {},
     "output_type": "execute_result"
    }
   ],
   "source": [
    "fight_df.isnull().sum()"
   ]
  },
  {
   "cell_type": "code",
   "execution_count": 9,
   "metadata": {},
   "outputs": [],
   "source": [
    "\"\"\"Split the time column by : and then multiply the first index with by 60 \n",
    "which is the minutes and add it to the second index which is the seconds to get total match time in seconds\"\"\"\n",
    "\n",
    "fight_df['time'] = fight_df['time'].str.split(':').apply(lambda x: (int(x[0]) * 60) + int(x[1]))"
   ]
  },
  {
   "cell_type": "code",
   "execution_count": 10,
   "metadata": {},
   "outputs": [],
   "source": [
    "\"\"\"Apply a map, if W then 1 if L then 0, and then convert the columns into int type\"\"\"\n",
    "\n",
    "fight_df[['fighter1_outcome','fighter2_outcome']] =\\\n",
    "         fight_df[['fighter1_outcome','fighter2_outcome']].applymap(lambda x: 1 if x == 'W' else 0).astype('int')"
   ]
  },
  {
   "cell_type": "code",
   "execution_count": 11,
   "metadata": {},
   "outputs": [
    {
     "name": "stdout",
     "output_type": "stream",
     "text": [
      "<class 'pandas.core.frame.DataFrame'>\n",
      "RangeIndex: 5749 entries, 0 to 5748\n",
      "Data columns (total 11 columns):\n",
      " #   Column            Non-Null Count  Dtype \n",
      "---  ------            --------------  ----- \n",
      " 0   fight_name        5749 non-null   object\n",
      " 1   fighter1_name     5749 non-null   object\n",
      " 2   fighter2_name     5749 non-null   object\n",
      " 3   fighter1_outcome  5749 non-null   int32 \n",
      " 4   fighter2_outcome  5749 non-null   int32 \n",
      " 5   weight_bout       5749 non-null   object\n",
      " 6   method            5749 non-null   object\n",
      " 7   num_rounds        5749 non-null   object\n",
      " 8   details           5749 non-null   object\n",
      " 9   time              5749 non-null   int64 \n",
      " 10  referee           5749 non-null   object\n",
      "dtypes: int32(2), int64(1), object(8)\n",
      "memory usage: 449.3+ KB\n"
     ]
    }
   ],
   "source": [
    "fight_df.info()"
   ]
  },
  {
   "cell_type": "markdown",
   "metadata": {},
   "source": [
    "## CLEANING FIGHT_STATS\n",
    "> NO NULL VALUES  \n",
    "> CONVERT ALL STRING/OBJECTS TO INT/FLOAT"
   ]
  },
  {
   "cell_type": "code",
   "execution_count": 12,
   "metadata": {},
   "outputs": [
    {
     "data": {
      "text/html": [
       "<div>\n",
       "<style scoped>\n",
       "    .dataframe tbody tr th:only-of-type {\n",
       "        vertical-align: middle;\n",
       "    }\n",
       "\n",
       "    .dataframe tbody tr th {\n",
       "        vertical-align: top;\n",
       "    }\n",
       "\n",
       "    .dataframe thead th {\n",
       "        text-align: right;\n",
       "    }\n",
       "</style>\n",
       "<table border=\"1\" class=\"dataframe\">\n",
       "  <thead>\n",
       "    <tr style=\"text-align: right;\">\n",
       "      <th></th>\n",
       "      <th>fight_name</th>\n",
       "      <th>fighter1_name</th>\n",
       "      <th>fighter2_name</th>\n",
       "      <th>kd_1</th>\n",
       "      <th>kd_2</th>\n",
       "      <th>sig_str_1</th>\n",
       "      <th>sig_str_2</th>\n",
       "      <th>sig_str_pct_1</th>\n",
       "      <th>sig_str_pct_2</th>\n",
       "      <th>total_str_1</th>\n",
       "      <th>total_str_2</th>\n",
       "      <th>td_1</th>\n",
       "      <th>td_2</th>\n",
       "      <th>td_pct_1</th>\n",
       "      <th>td_pct_2</th>\n",
       "      <th>sub_att_1</th>\n",
       "      <th>sub_att_2</th>\n",
       "      <th>pass_1</th>\n",
       "      <th>pass_2</th>\n",
       "      <th>head_1</th>\n",
       "      <th>head_2</th>\n",
       "      <th>body_1</th>\n",
       "      <th>body_2</th>\n",
       "      <th>leg_1</th>\n",
       "      <th>leg_2</th>\n",
       "      <th>distance_1</th>\n",
       "      <th>distance_2</th>\n",
       "      <th>clinch_1</th>\n",
       "      <th>clinch_2</th>\n",
       "      <th>ground_1</th>\n",
       "      <th>ground_2</th>\n",
       "    </tr>\n",
       "  </thead>\n",
       "  <tbody>\n",
       "    <tr>\n",
       "      <th>0</th>\n",
       "      <td>UFC Fight Night: Covington vs. Woodley</td>\n",
       "      <td>Tyson Nam</td>\n",
       "      <td>Jerome Rivera</td>\n",
       "      <td>1</td>\n",
       "      <td>0</td>\n",
       "      <td>36 of 72</td>\n",
       "      <td>30 of 80</td>\n",
       "      <td>50%</td>\n",
       "      <td>37%</td>\n",
       "      <td>36 of 72</td>\n",
       "      <td>31 of 81</td>\n",
       "      <td>0 of 0</td>\n",
       "      <td>0 of 0</td>\n",
       "      <td>0%</td>\n",
       "      <td>0%</td>\n",
       "      <td>0</td>\n",
       "      <td>0</td>\n",
       "      <td>0</td>\n",
       "      <td>0</td>\n",
       "      <td>27 of 58</td>\n",
       "      <td>9 of 45</td>\n",
       "      <td>7 of 12</td>\n",
       "      <td>2 of 11</td>\n",
       "      <td>2 of 2</td>\n",
       "      <td>19 of 24</td>\n",
       "      <td>18 of 47</td>\n",
       "      <td>29 of 79</td>\n",
       "      <td>3 of 3</td>\n",
       "      <td>1 of 1</td>\n",
       "      <td>15 of 22</td>\n",
       "      <td>0 of 0</td>\n",
       "    </tr>\n",
       "    <tr>\n",
       "      <th>1</th>\n",
       "      <td>UFC 237: Namajunas vs. Andrade</td>\n",
       "      <td>Talita Bernardo</td>\n",
       "      <td>Viviane Araujo</td>\n",
       "      <td>0</td>\n",
       "      <td>1</td>\n",
       "      <td>46 of 136</td>\n",
       "      <td>61 of 115</td>\n",
       "      <td>33%</td>\n",
       "      <td>53%</td>\n",
       "      <td>51 of 141</td>\n",
       "      <td>66 of 120</td>\n",
       "      <td>0 of 3</td>\n",
       "      <td>3 of 3</td>\n",
       "      <td>0%</td>\n",
       "      <td>100%</td>\n",
       "      <td>0</td>\n",
       "      <td>0</td>\n",
       "      <td>0</td>\n",
       "      <td>3</td>\n",
       "      <td>28 of 112</td>\n",
       "      <td>34 of 79</td>\n",
       "      <td>8 of 12</td>\n",
       "      <td>9 of 14</td>\n",
       "      <td>10 of 12</td>\n",
       "      <td>18 of 22</td>\n",
       "      <td>45 of 134</td>\n",
       "      <td>57 of 111</td>\n",
       "      <td>1 of 2</td>\n",
       "      <td>0 of 0</td>\n",
       "      <td>0 of 0</td>\n",
       "      <td>4 of 4</td>\n",
       "    </tr>\n",
       "    <tr>\n",
       "      <th>2</th>\n",
       "      <td>UFC 238: Cejudo vs. Moraes</td>\n",
       "      <td>Eddie Wineland</td>\n",
       "      <td>Grigory Popov</td>\n",
       "      <td>2</td>\n",
       "      <td>0</td>\n",
       "      <td>74 of 171</td>\n",
       "      <td>55 of 150</td>\n",
       "      <td>43%</td>\n",
       "      <td>36%</td>\n",
       "      <td>74 of 171</td>\n",
       "      <td>55 of 150</td>\n",
       "      <td>0 of 2</td>\n",
       "      <td>0 of 1</td>\n",
       "      <td>0%</td>\n",
       "      <td>0%</td>\n",
       "      <td>0</td>\n",
       "      <td>0</td>\n",
       "      <td>0</td>\n",
       "      <td>0</td>\n",
       "      <td>48 of 129</td>\n",
       "      <td>24 of 97</td>\n",
       "      <td>23 of 39</td>\n",
       "      <td>20 of 39</td>\n",
       "      <td>3 of 3</td>\n",
       "      <td>11 of 14</td>\n",
       "      <td>70 of 165</td>\n",
       "      <td>52 of 146</td>\n",
       "      <td>0 of 1</td>\n",
       "      <td>3 of 4</td>\n",
       "      <td>4 of 5</td>\n",
       "      <td>0 of 0</td>\n",
       "    </tr>\n",
       "    <tr>\n",
       "      <th>3</th>\n",
       "      <td>UFC 238: Cejudo vs. Moraes</td>\n",
       "      <td>Katlyn Chookagian</td>\n",
       "      <td>Joanne Calderwood</td>\n",
       "      <td>0</td>\n",
       "      <td>0</td>\n",
       "      <td>82 of 221</td>\n",
       "      <td>112 of 266</td>\n",
       "      <td>37%</td>\n",
       "      <td>42%</td>\n",
       "      <td>108 of 250</td>\n",
       "      <td>141 of 300</td>\n",
       "      <td>0 of 2</td>\n",
       "      <td>3 of 4</td>\n",
       "      <td>0%</td>\n",
       "      <td>75%</td>\n",
       "      <td>0</td>\n",
       "      <td>0</td>\n",
       "      <td>0</td>\n",
       "      <td>0</td>\n",
       "      <td>50 of 179</td>\n",
       "      <td>24 of 139</td>\n",
       "      <td>20 of 27</td>\n",
       "      <td>19 of 40</td>\n",
       "      <td>12 of 15</td>\n",
       "      <td>69 of 87</td>\n",
       "      <td>78 of 215</td>\n",
       "      <td>104 of 252</td>\n",
       "      <td>3 of 5</td>\n",
       "      <td>7 of 12</td>\n",
       "      <td>1 of 1</td>\n",
       "      <td>1 of 2</td>\n",
       "    </tr>\n",
       "    <tr>\n",
       "      <th>4</th>\n",
       "      <td>UFC 238: Cejudo vs. Moraes</td>\n",
       "      <td>Bevon Lewis</td>\n",
       "      <td>Darren Stewart</td>\n",
       "      <td>0</td>\n",
       "      <td>0</td>\n",
       "      <td>31 of 84</td>\n",
       "      <td>30 of 73</td>\n",
       "      <td>36%</td>\n",
       "      <td>41%</td>\n",
       "      <td>45 of 98</td>\n",
       "      <td>40 of 84</td>\n",
       "      <td>0 of 5</td>\n",
       "      <td>0 of 0</td>\n",
       "      <td>0%</td>\n",
       "      <td>0%</td>\n",
       "      <td>0</td>\n",
       "      <td>0</td>\n",
       "      <td>0</td>\n",
       "      <td>0</td>\n",
       "      <td>13 of 49</td>\n",
       "      <td>11 of 52</td>\n",
       "      <td>12 of 23</td>\n",
       "      <td>5 of 6</td>\n",
       "      <td>6 of 12</td>\n",
       "      <td>14 of 15</td>\n",
       "      <td>15 of 62</td>\n",
       "      <td>18 of 55</td>\n",
       "      <td>16 of 22</td>\n",
       "      <td>12 of 18</td>\n",
       "      <td>0 of 0</td>\n",
       "      <td>0 of 0</td>\n",
       "    </tr>\n",
       "  </tbody>\n",
       "</table>\n",
       "</div>"
      ],
      "text/plain": [
       "                               fight_name      fighter1_name  \\\n",
       "0  UFC Fight Night: Covington vs. Woodley          Tyson Nam   \n",
       "1          UFC 237: Namajunas vs. Andrade    Talita Bernardo   \n",
       "2              UFC 238: Cejudo vs. Moraes     Eddie Wineland   \n",
       "3              UFC 238: Cejudo vs. Moraes  Katlyn Chookagian   \n",
       "4              UFC 238: Cejudo vs. Moraes        Bevon Lewis   \n",
       "\n",
       "       fighter2_name kd_1 kd_2  sig_str_1   sig_str_2 sig_str_pct_1  \\\n",
       "0      Jerome Rivera    1    0   36 of 72    30 of 80           50%   \n",
       "1     Viviane Araujo    0    1  46 of 136   61 of 115           33%   \n",
       "2      Grigory Popov    2    0  74 of 171   55 of 150           43%   \n",
       "3  Joanne Calderwood    0    0  82 of 221  112 of 266           37%   \n",
       "4     Darren Stewart    0    0   31 of 84    30 of 73           36%   \n",
       "\n",
       "  sig_str_pct_2 total_str_1 total_str_2    td_1    td_2 td_pct_1 td_pct_2  \\\n",
       "0           37%    36 of 72    31 of 81  0 of 0  0 of 0       0%       0%   \n",
       "1           53%   51 of 141   66 of 120  0 of 3  3 of 3       0%     100%   \n",
       "2           36%   74 of 171   55 of 150  0 of 2  0 of 1       0%       0%   \n",
       "3           42%  108 of 250  141 of 300  0 of 2  3 of 4       0%      75%   \n",
       "4           41%    45 of 98    40 of 84  0 of 5  0 of 0       0%       0%   \n",
       "\n",
       "  sub_att_1 sub_att_2 pass_1 pass_2     head_1     head_2    body_1    body_2  \\\n",
       "0         0         0      0      0   27 of 58    9 of 45   7 of 12   2 of 11   \n",
       "1         0         0      0      3  28 of 112   34 of 79   8 of 12   9 of 14   \n",
       "2         0         0      0      0  48 of 129   24 of 97  23 of 39  20 of 39   \n",
       "3         0         0      0      0  50 of 179  24 of 139  20 of 27  19 of 40   \n",
       "4         0         0      0      0   13 of 49   11 of 52  12 of 23    5 of 6   \n",
       "\n",
       "      leg_1     leg_2 distance_1  distance_2  clinch_1  clinch_2  ground_1  \\\n",
       "0    2 of 2  19 of 24   18 of 47    29 of 79    3 of 3    1 of 1  15 of 22   \n",
       "1  10 of 12  18 of 22  45 of 134   57 of 111    1 of 2    0 of 0    0 of 0   \n",
       "2    3 of 3  11 of 14  70 of 165   52 of 146    0 of 1    3 of 4    4 of 5   \n",
       "3  12 of 15  69 of 87  78 of 215  104 of 252    3 of 5   7 of 12    1 of 1   \n",
       "4   6 of 12  14 of 15   15 of 62    18 of 55  16 of 22  12 of 18    0 of 0   \n",
       "\n",
       "  ground_2  \n",
       "0   0 of 0  \n",
       "1   4 of 4  \n",
       "2   0 of 0  \n",
       "3   1 of 2  \n",
       "4   0 of 0  "
      ]
     },
     "execution_count": 12,
     "metadata": {},
     "output_type": "execute_result"
    }
   ],
   "source": [
    "fight_stats.head()"
   ]
  },
  {
   "cell_type": "code",
   "execution_count": 13,
   "metadata": {},
   "outputs": [
    {
     "data": {
      "text/plain": [
       "fight_name       0\n",
       "fighter1_name    0\n",
       "fighter2_name    0\n",
       "kd_1             0\n",
       "kd_2             0\n",
       "sig_str_1        0\n",
       "sig_str_2        0\n",
       "sig_str_pct_1    0\n",
       "sig_str_pct_2    0\n",
       "total_str_1      0\n",
       "total_str_2      0\n",
       "td_1             0\n",
       "td_2             0\n",
       "td_pct_1         0\n",
       "td_pct_2         0\n",
       "sub_att_1        0\n",
       "sub_att_2        0\n",
       "pass_1           0\n",
       "pass_2           0\n",
       "head_1           0\n",
       "head_2           0\n",
       "body_1           0\n",
       "body_2           0\n",
       "leg_1            0\n",
       "leg_2            0\n",
       "distance_1       0\n",
       "distance_2       0\n",
       "clinch_1         0\n",
       "clinch_2         0\n",
       "ground_1         0\n",
       "ground_2         0\n",
       "dtype: int64"
      ]
     },
     "execution_count": 13,
     "metadata": {},
     "output_type": "execute_result"
    }
   ],
   "source": [
    "fight_stats.isnull().sum()"
   ]
  },
  {
   "cell_type": "code",
   "execution_count": 14,
   "metadata": {},
   "outputs": [
    {
     "data": {
      "text/plain": [
       "Index(['fight_name', 'fighter1_name', 'fighter2_name', 'kd_1', 'kd_2',\n",
       "       'sig_str_1', 'sig_str_2', 'sig_str_pct_1', 'sig_str_pct_2',\n",
       "       'total_str_1', 'total_str_2', 'td_1', 'td_2', 'td_pct_1', 'td_pct_2',\n",
       "       'sub_att_1', 'sub_att_2', 'pass_1', 'pass_2', 'head_1', 'head_2',\n",
       "       'body_1', 'body_2', 'leg_1', 'leg_2', 'distance_1', 'distance_2',\n",
       "       'clinch_1', 'clinch_2', 'ground_1', 'ground_2'],\n",
       "      dtype='object')"
      ]
     },
     "execution_count": 14,
     "metadata": {},
     "output_type": "execute_result"
    }
   ],
   "source": [
    "fight_stats.columns"
   ]
  },
  {
   "cell_type": "code",
   "execution_count": 15,
   "metadata": {},
   "outputs": [],
   "source": [
    "\"\"\" Create function to extract digits from the columns and rename the columns _landed, _attempted\n",
    "    Convert the new columns into int type.\n",
    "\"\"\";"
   ]
  },
  {
   "cell_type": "code",
   "execution_count": 16,
   "metadata": {},
   "outputs": [],
   "source": [
    "def landed_attempted(column):\n",
    "    return fight_stats[column].str.extract(\"(?P<{}>\\d+) [\\w]+ (?P<{}>\\d+)\".format(column +'_landed',column +'_attempted'))"
   ]
  },
  {
   "cell_type": "code",
   "execution_count": 17,
   "metadata": {},
   "outputs": [],
   "source": [
    "#stats to convert\n",
    "matchstats = ['sig_str_1', 'sig_str_2','total_str_1', 'total_str_2',\\\n",
    " 'td_1', 'td_2','head_1', 'head_2','body_1', 'body_2',\\\n",
    " 'leg_1', 'leg_2', 'distance_1', 'distance_2',\\\n",
    " 'clinch_1', 'clinch_2', 'ground_1', 'ground_2']\n",
    "\n",
    "#change the format from \"x of y\" to 2 columns x, y and then join it with the fight_stats df\n",
    "for stats in matchstats:\n",
    "    fight_stats = fight_stats.join(landed_attempted(stats),how ='right')\n",
    "    \n",
    "#drop the matchstats since we now have the cleaned value    \n",
    "fight_stats.drop(matchstats,axis=1,inplace = True)\n"
   ]
  },
  {
   "cell_type": "code",
   "execution_count": 18,
   "metadata": {},
   "outputs": [],
   "source": [
    "#change from percent to int\n",
    "pct =['sig_str_pct_1', 'sig_str_pct_2', 'td_pct_1', 'td_pct_2']\n",
    "for i in pct:\n",
    "    fight_stats[i] = fight_stats[i].str.extract(\"(\\d+)\").astype('int')/100"
   ]
  },
  {
   "cell_type": "code",
   "execution_count": 19,
   "metadata": {},
   "outputs": [],
   "source": [
    "#change the rest of the objects that are strings to int\n",
    "fight_stats.iloc[:,9:]= fight_stats.iloc[:,9:].astype('int').copy()"
   ]
  },
  {
   "cell_type": "code",
   "execution_count": 20,
   "metadata": {},
   "outputs": [],
   "source": [
    "#change the rest of objects that are strings to int\n",
    "fight_stats.iloc[:,3:5] = fight_stats.iloc[:,3:5].astype('int').copy()"
   ]
  },
  {
   "cell_type": "code",
   "execution_count": 21,
   "metadata": {},
   "outputs": [
    {
     "name": "stdout",
     "output_type": "stream",
     "text": [
      "<class 'pandas.core.frame.DataFrame'>\n",
      "RangeIndex: 5749 entries, 0 to 5748\n",
      "Data columns (total 49 columns):\n",
      " #   Column                 Non-Null Count  Dtype  \n",
      "---  ------                 --------------  -----  \n",
      " 0   fight_name             5749 non-null   object \n",
      " 1   fighter1_name          5749 non-null   object \n",
      " 2   fighter2_name          5749 non-null   object \n",
      " 3   kd_1                   5749 non-null   int32  \n",
      " 4   kd_2                   5749 non-null   int32  \n",
      " 5   sig_str_pct_1          5749 non-null   float64\n",
      " 6   sig_str_pct_2          5749 non-null   float64\n",
      " 7   td_pct_1               5749 non-null   float64\n",
      " 8   td_pct_2               5749 non-null   float64\n",
      " 9   sub_att_1              5749 non-null   int32  \n",
      " 10  sub_att_2              5749 non-null   int32  \n",
      " 11  pass_1                 5749 non-null   int32  \n",
      " 12  pass_2                 5749 non-null   int32  \n",
      " 13  sig_str_1_landed       5749 non-null   int32  \n",
      " 14  sig_str_1_attempted    5749 non-null   int32  \n",
      " 15  sig_str_2_landed       5749 non-null   int32  \n",
      " 16  sig_str_2_attempted    5749 non-null   int32  \n",
      " 17  total_str_1_landed     5749 non-null   int32  \n",
      " 18  total_str_1_attempted  5749 non-null   int32  \n",
      " 19  total_str_2_landed     5749 non-null   int32  \n",
      " 20  total_str_2_attempted  5749 non-null   int32  \n",
      " 21  td_1_landed            5749 non-null   int32  \n",
      " 22  td_1_attempted         5749 non-null   int32  \n",
      " 23  td_2_landed            5749 non-null   int32  \n",
      " 24  td_2_attempted         5749 non-null   int32  \n",
      " 25  head_1_landed          5749 non-null   int32  \n",
      " 26  head_1_attempted       5749 non-null   int32  \n",
      " 27  head_2_landed          5749 non-null   int32  \n",
      " 28  head_2_attempted       5749 non-null   int32  \n",
      " 29  body_1_landed          5749 non-null   int32  \n",
      " 30  body_1_attempted       5749 non-null   int32  \n",
      " 31  body_2_landed          5749 non-null   int32  \n",
      " 32  body_2_attempted       5749 non-null   int32  \n",
      " 33  leg_1_landed           5749 non-null   int32  \n",
      " 34  leg_1_attempted        5749 non-null   int32  \n",
      " 35  leg_2_landed           5749 non-null   int32  \n",
      " 36  leg_2_attempted        5749 non-null   int32  \n",
      " 37  distance_1_landed      5749 non-null   int32  \n",
      " 38  distance_1_attempted   5749 non-null   int32  \n",
      " 39  distance_2_landed      5749 non-null   int32  \n",
      " 40  distance_2_attempted   5749 non-null   int32  \n",
      " 41  clinch_1_landed        5749 non-null   int32  \n",
      " 42  clinch_1_attempted     5749 non-null   int32  \n",
      " 43  clinch_2_landed        5749 non-null   int32  \n",
      " 44  clinch_2_attempted     5749 non-null   int32  \n",
      " 45  ground_1_landed        5749 non-null   int32  \n",
      " 46  ground_1_attempted     5749 non-null   int32  \n",
      " 47  ground_2_landed        5749 non-null   int32  \n",
      " 48  ground_2_attempted     5749 non-null   int32  \n",
      "dtypes: float64(4), int32(42), object(3)\n",
      "memory usage: 1.2+ MB\n"
     ]
    }
   ],
   "source": [
    "fight_stats.info()"
   ]
  },
  {
   "cell_type": "code",
   "execution_count": null,
   "metadata": {},
   "outputs": [],
   "source": []
  },
  {
   "cell_type": "markdown",
   "metadata": {},
   "source": [
    "## JOIN 3 DATAFRAMES TOGETHER\n",
    "> IMPORT ANOTHER FILE, WITH THE EVENT DATE AND LOCATION  \n",
    "> MERGE THE DATAFRAMES TOGETHER"
   ]
  },
  {
   "cell_type": "code",
   "execution_count": 22,
   "metadata": {},
   "outputs": [],
   "source": [
    "event_details = pd.read_csv(\"event_details.csv\")"
   ]
  },
  {
   "cell_type": "code",
   "execution_count": 23,
   "metadata": {},
   "outputs": [
    {
     "data": {
      "text/html": [
       "<div>\n",
       "<style scoped>\n",
       "    .dataframe tbody tr th:only-of-type {\n",
       "        vertical-align: middle;\n",
       "    }\n",
       "\n",
       "    .dataframe tbody tr th {\n",
       "        vertical-align: top;\n",
       "    }\n",
       "\n",
       "    .dataframe thead th {\n",
       "        text-align: right;\n",
       "    }\n",
       "</style>\n",
       "<table border=\"1\" class=\"dataframe\">\n",
       "  <thead>\n",
       "    <tr style=\"text-align: right;\">\n",
       "      <th></th>\n",
       "      <th>Event_Name</th>\n",
       "      <th>Date</th>\n",
       "      <th>City</th>\n",
       "      <th>State</th>\n",
       "      <th>Country</th>\n",
       "    </tr>\n",
       "  </thead>\n",
       "  <tbody>\n",
       "    <tr>\n",
       "      <th>0</th>\n",
       "      <td>UFC Fight Night: Covington vs. Woodley</td>\n",
       "      <td>2020-09-19</td>\n",
       "      <td>Las Vegas</td>\n",
       "      <td>Nevada</td>\n",
       "      <td>USA</td>\n",
       "    </tr>\n",
       "    <tr>\n",
       "      <th>1</th>\n",
       "      <td>UFC Fight Night: Waterson vs. Hill</td>\n",
       "      <td>2020-09-12</td>\n",
       "      <td>Las Vegas</td>\n",
       "      <td>Nevada</td>\n",
       "      <td>USA</td>\n",
       "    </tr>\n",
       "    <tr>\n",
       "      <th>2</th>\n",
       "      <td>UFC Fight Night: Overeem vs. Sakai</td>\n",
       "      <td>2020-09-05</td>\n",
       "      <td>Las Vegas</td>\n",
       "      <td>Nevada</td>\n",
       "      <td>USA</td>\n",
       "    </tr>\n",
       "    <tr>\n",
       "      <th>3</th>\n",
       "      <td>UFC Fight Night: Smith vs. Rakic</td>\n",
       "      <td>2020-08-29</td>\n",
       "      <td>Las Vegas</td>\n",
       "      <td>Nevada</td>\n",
       "      <td>USA</td>\n",
       "    </tr>\n",
       "    <tr>\n",
       "      <th>4</th>\n",
       "      <td>UFC Fight Night: Munhoz vs. Edgar</td>\n",
       "      <td>2020-08-22</td>\n",
       "      <td>Las Vegas</td>\n",
       "      <td>Nevada</td>\n",
       "      <td>USA</td>\n",
       "    </tr>\n",
       "  </tbody>\n",
       "</table>\n",
       "</div>"
      ],
      "text/plain": [
       "                               Event_Name        Date       City    State  \\\n",
       "0  UFC Fight Night: Covington vs. Woodley  2020-09-19  Las Vegas   Nevada   \n",
       "1      UFC Fight Night: Waterson vs. Hill  2020-09-12  Las Vegas   Nevada   \n",
       "2      UFC Fight Night: Overeem vs. Sakai  2020-09-05  Las Vegas   Nevada   \n",
       "3        UFC Fight Night: Smith vs. Rakic  2020-08-29  Las Vegas   Nevada   \n",
       "4       UFC Fight Night: Munhoz vs. Edgar  2020-08-22  Las Vegas   Nevada   \n",
       "\n",
       "  Country  \n",
       "0     USA  \n",
       "1     USA  \n",
       "2     USA  \n",
       "3     USA  \n",
       "4     USA  "
      ]
     },
     "execution_count": 23,
     "metadata": {},
     "output_type": "execute_result"
    }
   ],
   "source": [
    "event_details.head()"
   ]
  },
  {
   "cell_type": "code",
   "execution_count": 24,
   "metadata": {},
   "outputs": [],
   "source": [
    "#merge event_details with fight_stats on the fight_name/event_name column\n",
    "fight_stats = fight_stats.merge(event_details,left_on = 'fight_name',right_on='Event_Name').copy()"
   ]
  },
  {
   "cell_type": "code",
   "execution_count": 25,
   "metadata": {},
   "outputs": [
    {
     "name": "stdout",
     "output_type": "stream",
     "text": [
      "(5749, 54)\n"
     ]
    }
   ],
   "source": [
    "print(fight_stats.shape)"
   ]
  },
  {
   "cell_type": "code",
   "execution_count": 26,
   "metadata": {},
   "outputs": [],
   "source": [
    "#drop Event_name\n",
    "fight_stats.drop('Event_Name',axis=1,inplace = True)"
   ]
  },
  {
   "cell_type": "code",
   "execution_count": 27,
   "metadata": {},
   "outputs": [],
   "source": [
    "#reorder columns so date comes first\n",
    "fight_stats = fight_stats[['Date', 'fight_name', 'fighter1_name', 'fighter2_name', 'kd_1', 'kd_2',\n",
    "       'sig_str_pct_1', 'sig_str_pct_2', 'td_pct_1', 'td_pct_2', 'sub_att_1',\n",
    "       'sub_att_2', 'pass_1', 'pass_2', 'sig_str_1_landed',\n",
    "       'sig_str_1_attempted', 'sig_str_2_landed', 'sig_str_2_attempted',\n",
    "       'total_str_1_landed', 'total_str_1_attempted', 'total_str_2_landed',\n",
    "       'total_str_2_attempted', 'td_1_landed', 'td_1_attempted', 'td_2_landed',\n",
    "       'td_2_attempted', 'head_1_landed', 'head_1_attempted', 'head_2_landed',\n",
    "       'head_2_attempted', 'body_1_landed', 'body_1_attempted',\n",
    "       'body_2_landed', 'body_2_attempted', 'leg_1_landed', 'leg_1_attempted',\n",
    "       'leg_2_landed', 'leg_2_attempted', 'distance_1_landed',\n",
    "       'distance_1_attempted', 'distance_2_landed', 'distance_2_attempted',\n",
    "       'clinch_1_landed', 'clinch_1_attempted', 'clinch_2_landed',\n",
    "       'clinch_2_attempted', 'ground_1_landed', 'ground_1_attempted',\n",
    "       'ground_2_landed', 'ground_2_attempted', 'City', 'State', 'Country']];"
   ]
  },
  {
   "cell_type": "code",
   "execution_count": 28,
   "metadata": {},
   "outputs": [
    {
     "data": {
      "text/plain": [
       "True"
      ]
     },
     "execution_count": 28,
     "metadata": {},
     "output_type": "execute_result"
    }
   ],
   "source": [
    "#check to see if the number of records are equal\n",
    "fight_stats.shape[0] == fight_df.shape[0]"
   ]
  },
  {
   "cell_type": "code",
   "execution_count": 29,
   "metadata": {},
   "outputs": [],
   "source": [
    "#merge fight_stats and fight_df\n",
    "match_df = fight_stats.merge(fight_df)"
   ]
  },
  {
   "cell_type": "code",
   "execution_count": 30,
   "metadata": {},
   "outputs": [
    {
     "name": "stdout",
     "output_type": "stream",
     "text": [
      "All 3 dataframes are merged with new shape (5751, 61)\n"
     ]
    }
   ],
   "source": [
    "match_df.head()\n",
    "print('All 3 dataframes are merged with new shape {}'.format(match_df.shape))"
   ]
  },
  {
   "cell_type": "code",
   "execution_count": 31,
   "metadata": {},
   "outputs": [
    {
     "data": {
      "text/html": [
       "<div>\n",
       "<style scoped>\n",
       "    .dataframe tbody tr th:only-of-type {\n",
       "        vertical-align: middle;\n",
       "    }\n",
       "\n",
       "    .dataframe tbody tr th {\n",
       "        vertical-align: top;\n",
       "    }\n",
       "\n",
       "    .dataframe thead th {\n",
       "        text-align: right;\n",
       "    }\n",
       "</style>\n",
       "<table border=\"1\" class=\"dataframe\">\n",
       "  <thead>\n",
       "    <tr style=\"text-align: right;\">\n",
       "      <th></th>\n",
       "      <th>Date</th>\n",
       "      <th>fight_name</th>\n",
       "      <th>fighter1_name</th>\n",
       "      <th>fighter2_name</th>\n",
       "      <th>kd_1</th>\n",
       "      <th>kd_2</th>\n",
       "      <th>sig_str_pct_1</th>\n",
       "      <th>sig_str_pct_2</th>\n",
       "      <th>td_pct_1</th>\n",
       "      <th>td_pct_2</th>\n",
       "      <th>sub_att_1</th>\n",
       "      <th>sub_att_2</th>\n",
       "      <th>pass_1</th>\n",
       "      <th>pass_2</th>\n",
       "      <th>sig_str_1_landed</th>\n",
       "      <th>sig_str_1_attempted</th>\n",
       "      <th>sig_str_2_landed</th>\n",
       "      <th>sig_str_2_attempted</th>\n",
       "      <th>total_str_1_landed</th>\n",
       "      <th>total_str_1_attempted</th>\n",
       "      <th>total_str_2_landed</th>\n",
       "      <th>total_str_2_attempted</th>\n",
       "      <th>td_1_landed</th>\n",
       "      <th>td_1_attempted</th>\n",
       "      <th>td_2_landed</th>\n",
       "      <th>td_2_attempted</th>\n",
       "      <th>head_1_landed</th>\n",
       "      <th>head_1_attempted</th>\n",
       "      <th>head_2_landed</th>\n",
       "      <th>head_2_attempted</th>\n",
       "      <th>body_1_landed</th>\n",
       "      <th>body_1_attempted</th>\n",
       "      <th>body_2_landed</th>\n",
       "      <th>body_2_attempted</th>\n",
       "      <th>leg_1_landed</th>\n",
       "      <th>leg_1_attempted</th>\n",
       "      <th>leg_2_landed</th>\n",
       "      <th>leg_2_attempted</th>\n",
       "      <th>distance_1_landed</th>\n",
       "      <th>distance_1_attempted</th>\n",
       "      <th>distance_2_landed</th>\n",
       "      <th>distance_2_attempted</th>\n",
       "      <th>clinch_1_landed</th>\n",
       "      <th>clinch_1_attempted</th>\n",
       "      <th>clinch_2_landed</th>\n",
       "      <th>clinch_2_attempted</th>\n",
       "      <th>ground_1_landed</th>\n",
       "      <th>ground_1_attempted</th>\n",
       "      <th>ground_2_landed</th>\n",
       "      <th>ground_2_attempted</th>\n",
       "      <th>City</th>\n",
       "      <th>State</th>\n",
       "      <th>Country</th>\n",
       "      <th>fighter1_outcome</th>\n",
       "      <th>fighter2_outcome</th>\n",
       "      <th>weight_bout</th>\n",
       "      <th>method</th>\n",
       "      <th>num_rounds</th>\n",
       "      <th>details</th>\n",
       "      <th>time</th>\n",
       "      <th>referee</th>\n",
       "    </tr>\n",
       "  </thead>\n",
       "  <tbody>\n",
       "  </tbody>\n",
       "</table>\n",
       "</div>"
      ],
      "text/plain": [
       "Empty DataFrame\n",
       "Columns: [Date, fight_name, fighter1_name, fighter2_name, kd_1, kd_2, sig_str_pct_1, sig_str_pct_2, td_pct_1, td_pct_2, sub_att_1, sub_att_2, pass_1, pass_2, sig_str_1_landed, sig_str_1_attempted, sig_str_2_landed, sig_str_2_attempted, total_str_1_landed, total_str_1_attempted, total_str_2_landed, total_str_2_attempted, td_1_landed, td_1_attempted, td_2_landed, td_2_attempted, head_1_landed, head_1_attempted, head_2_landed, head_2_attempted, body_1_landed, body_1_attempted, body_2_landed, body_2_attempted, leg_1_landed, leg_1_attempted, leg_2_landed, leg_2_attempted, distance_1_landed, distance_1_attempted, distance_2_landed, distance_2_attempted, clinch_1_landed, clinch_1_attempted, clinch_2_landed, clinch_2_attempted, ground_1_landed, ground_1_attempted, ground_2_landed, ground_2_attempted, City, State, Country, fighter1_outcome, fighter2_outcome, weight_bout, method, num_rounds, details, time, referee]\n",
       "Index: []"
      ]
     },
     "execution_count": 31,
     "metadata": {},
     "output_type": "execute_result"
    }
   ],
   "source": [
    "match_df[match_df.duplicated()]"
   ]
  },
  {
   "cell_type": "code",
   "execution_count": 35,
   "metadata": {},
   "outputs": [],
   "source": [
    "#match_df.to_csv('match_df.csv',index= False)"
   ]
  },
  {
   "cell_type": "code",
   "execution_count": 36,
   "metadata": {},
   "outputs": [
    {
     "data": {
      "text/plain": [
       "(5751, 61)"
      ]
     },
     "execution_count": 36,
     "metadata": {},
     "output_type": "execute_result"
    }
   ],
   "source": [
    "match_df.shape"
   ]
  },
  {
   "cell_type": "code",
   "execution_count": null,
   "metadata": {},
   "outputs": [],
   "source": []
  }
 ],
 "metadata": {
  "kernelspec": {
   "display_name": "Python 3",
   "language": "python",
   "name": "python3"
  },
  "language_info": {
   "codemirror_mode": {
    "name": "ipython",
    "version": 3
   },
   "file_extension": ".py",
   "mimetype": "text/x-python",
   "name": "python",
   "nbconvert_exporter": "python",
   "pygments_lexer": "ipython3",
   "version": "3.7.3"
  }
 },
 "nbformat": 4,
 "nbformat_minor": 2
}
