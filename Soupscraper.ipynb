{
 "cells": [
  {
   "cell_type": "markdown",
   "metadata": {},
   "source": [
    "## SCRAPING Event Details from UFCSTATS"
   ]
  },
  {
   "cell_type": "code",
   "execution_count": 59,
   "metadata": {},
   "outputs": [],
   "source": [
    "import requests\n",
    "import pandas as pd\n",
    "from bs4 import BeautifulSoup"
   ]
  },
  {
   "cell_type": "code",
   "execution_count": 3,
   "metadata": {},
   "outputs": [],
   "source": [
    "URL = 'http://www.ufcstats.com/statistics/events/completed?page=all'\n",
    "page = requests.get(URL)"
   ]
  },
  {
   "cell_type": "code",
   "execution_count": 4,
   "metadata": {},
   "outputs": [],
   "source": [
    "soup = BeautifulSoup(page.content,'html.parser')"
   ]
  },
  {
   "cell_type": "code",
   "execution_count": 46,
   "metadata": {},
   "outputs": [],
   "source": [
    "fight_name = soup.find_all(class_=\"b-link b-link_style_black\")\n",
    "fight_date = soup.find_all(class_=\"b-statistics__date\")\n",
    "fight_location = soup.find_all(class_=\"b-statistics__table-col b-statistics__table-col_style_big-top-padding\")"
   ]
  },
  {
   "cell_type": "code",
   "execution_count": 47,
   "metadata": {},
   "outputs": [],
   "source": [
    "#get event name, just the text values from the soup\n",
    "event = []\n",
    "for name in fight_name:\n",
    "    event.append(name.text.strip())"
   ]
  },
  {
   "cell_type": "code",
   "execution_count": 48,
   "metadata": {},
   "outputs": [],
   "source": [
    "#get event date, just text values from the soup\n",
    "event_date = []\n",
    "for date in fight_date:\n",
    "    event_date.append(date.text.strip())"
   ]
  },
  {
   "cell_type": "code",
   "execution_count": 49,
   "metadata": {},
   "outputs": [],
   "source": [
    "#get location, just text values from the soup\n",
    "location = []\n",
    "for loc in fight_location:\n",
    "    location.append(loc.text.strip())"
   ]
  },
  {
   "cell_type": "code",
   "execution_count": 54,
   "metadata": {},
   "outputs": [
    {
     "name": "stdout",
     "output_type": "stream",
     "text": [
      "533 534 534\n"
     ]
    }
   ],
   "source": [
    "#len of the lists are not all equal\n",
    "print(len(event),len(event_date),len(location))"
   ]
  },
  {
   "cell_type": "code",
   "execution_count": null,
   "metadata": {},
   "outputs": [],
   "source": [
    "\"\"\"BOTH fight_date and location have 1 extra value, which are the dates and location for the next upcoming event\n",
    "    REMOVE the first value from both fight_date and location.\n",
    "\"\"\""
   ]
  },
  {
   "cell_type": "code",
   "execution_count": 57,
   "metadata": {},
   "outputs": [],
   "source": [
    "#get all values except the first for each list\n",
    "event_date = event_date[1:]\n",
    "location = location[1:]"
   ]
  },
  {
   "cell_type": "code",
   "execution_count": 58,
   "metadata": {},
   "outputs": [
    {
     "name": "stdout",
     "output_type": "stream",
     "text": [
      "533 533 533\n"
     ]
    }
   ],
   "source": [
    "#len of the lists are the same now\n",
    "print(len(event),len(event_date),len(location))"
   ]
  },
  {
   "cell_type": "code",
   "execution_count": 67,
   "metadata": {},
   "outputs": [],
   "source": [
    "eventdetails_zipped = list(zip(event,event_date,location))"
   ]
  },
  {
   "cell_type": "code",
   "execution_count": 72,
   "metadata": {},
   "outputs": [
    {
     "data": {
      "text/plain": [
       "('UFC Fight Night: Covington vs. Woodley',\n",
       " 'September 19, 2020',\n",
       " 'Las Vegas, Nevada, USA')"
      ]
     },
     "execution_count": 72,
     "metadata": {},
     "output_type": "execute_result"
    }
   ],
   "source": [
    "eventdetails_zipped[0]"
   ]
  },
  {
   "cell_type": "code",
   "execution_count": 110,
   "metadata": {},
   "outputs": [],
   "source": [
    "event_details = pd.DataFrame(data = eventdetails_zipped, columns = ['Event_Name','Date','Location'])"
   ]
  },
  {
   "cell_type": "code",
   "execution_count": 111,
   "metadata": {},
   "outputs": [],
   "source": [
    "#converting to date_time\n",
    "event_details['Date'] = pd.to_datetime(event_details['Date'])"
   ]
  },
  {
   "cell_type": "code",
   "execution_count": 112,
   "metadata": {},
   "outputs": [
    {
     "data": {
      "text/plain": [
       "0    [Las Vegas,  Nevada,  USA]\n",
       "1    [Las Vegas,  Nevada,  USA]\n",
       "2    [Las Vegas,  Nevada,  USA]\n",
       "Name: Location, dtype: object"
      ]
     },
     "execution_count": 112,
     "metadata": {},
     "output_type": "execute_result"
    }
   ],
   "source": [
    "#turn location in a list\n",
    "event_details['Location'] = event_details['Location'].str.split(',').copy()\n",
    "event_details['Location'].head(3)"
   ]
  },
  {
   "cell_type": "code",
   "execution_count": 113,
   "metadata": {},
   "outputs": [],
   "source": [
    "#from the list first index is city, second is state, last is country\n",
    "event_details['City'] = event_details['Location'].map(lambda x:x[0])\n",
    "event_details['State'] = event_details['Location'].map(lambda x:x[1])\n",
    "event_details['Country'] = event_details['Location'].map(lambda x:x[-1])"
   ]
  },
  {
   "cell_type": "code",
   "execution_count": 114,
   "metadata": {},
   "outputs": [],
   "source": [
    "#drop Location since we have city, state, country\n",
    "event_details.drop(labels= 'Location',axis=1,inplace = True)"
   ]
  },
  {
   "cell_type": "code",
   "execution_count": 115,
   "metadata": {},
   "outputs": [
    {
     "data": {
      "text/html": [
       "<div>\n",
       "<style scoped>\n",
       "    .dataframe tbody tr th:only-of-type {\n",
       "        vertical-align: middle;\n",
       "    }\n",
       "\n",
       "    .dataframe tbody tr th {\n",
       "        vertical-align: top;\n",
       "    }\n",
       "\n",
       "    .dataframe thead th {\n",
       "        text-align: right;\n",
       "    }\n",
       "</style>\n",
       "<table border=\"1\" class=\"dataframe\">\n",
       "  <thead>\n",
       "    <tr style=\"text-align: right;\">\n",
       "      <th></th>\n",
       "      <th>Event_Name</th>\n",
       "      <th>Date</th>\n",
       "      <th>City</th>\n",
       "      <th>State</th>\n",
       "      <th>Country</th>\n",
       "    </tr>\n",
       "  </thead>\n",
       "  <tbody>\n",
       "    <tr>\n",
       "      <th>0</th>\n",
       "      <td>UFC Fight Night: Covington vs. Woodley</td>\n",
       "      <td>2020-09-19</td>\n",
       "      <td>Las Vegas</td>\n",
       "      <td>Nevada</td>\n",
       "      <td>USA</td>\n",
       "    </tr>\n",
       "    <tr>\n",
       "      <th>1</th>\n",
       "      <td>UFC Fight Night: Waterson vs. Hill</td>\n",
       "      <td>2020-09-12</td>\n",
       "      <td>Las Vegas</td>\n",
       "      <td>Nevada</td>\n",
       "      <td>USA</td>\n",
       "    </tr>\n",
       "    <tr>\n",
       "      <th>2</th>\n",
       "      <td>UFC Fight Night: Overeem vs. Sakai</td>\n",
       "      <td>2020-09-05</td>\n",
       "      <td>Las Vegas</td>\n",
       "      <td>Nevada</td>\n",
       "      <td>USA</td>\n",
       "    </tr>\n",
       "    <tr>\n",
       "      <th>3</th>\n",
       "      <td>UFC Fight Night: Smith vs. Rakic</td>\n",
       "      <td>2020-08-29</td>\n",
       "      <td>Las Vegas</td>\n",
       "      <td>Nevada</td>\n",
       "      <td>USA</td>\n",
       "    </tr>\n",
       "    <tr>\n",
       "      <th>4</th>\n",
       "      <td>UFC Fight Night: Munhoz vs. Edgar</td>\n",
       "      <td>2020-08-22</td>\n",
       "      <td>Las Vegas</td>\n",
       "      <td>Nevada</td>\n",
       "      <td>USA</td>\n",
       "    </tr>\n",
       "  </tbody>\n",
       "</table>\n",
       "</div>"
      ],
      "text/plain": [
       "                               Event_Name       Date       City    State  \\\n",
       "0  UFC Fight Night: Covington vs. Woodley 2020-09-19  Las Vegas   Nevada   \n",
       "1      UFC Fight Night: Waterson vs. Hill 2020-09-12  Las Vegas   Nevada   \n",
       "2      UFC Fight Night: Overeem vs. Sakai 2020-09-05  Las Vegas   Nevada   \n",
       "3        UFC Fight Night: Smith vs. Rakic 2020-08-29  Las Vegas   Nevada   \n",
       "4       UFC Fight Night: Munhoz vs. Edgar 2020-08-22  Las Vegas   Nevada   \n",
       "\n",
       "  Country  \n",
       "0     USA  \n",
       "1     USA  \n",
       "2     USA  \n",
       "3     USA  \n",
       "4     USA  "
      ]
     },
     "execution_count": 115,
     "metadata": {},
     "output_type": "execute_result"
    }
   ],
   "source": [
    "event_details.head()"
   ]
  },
  {
   "cell_type": "code",
   "execution_count": 118,
   "metadata": {},
   "outputs": [],
   "source": [
    "import os"
   ]
  },
  {
   "cell_type": "code",
   "execution_count": 127,
   "metadata": {},
   "outputs": [],
   "source": [
    "os.chdir('UFC_Project/')"
   ]
  },
  {
   "cell_type": "code",
   "execution_count": null,
   "metadata": {},
   "outputs": [],
   "source": [
    "\"\"\"save as csv\"\"\"\n",
    "#event_details.to_csv('event_details.csv',index= False)"
   ]
  }
 ],
 "metadata": {
  "kernelspec": {
   "display_name": "Python 3",
   "language": "python",
   "name": "python3"
  },
  "language_info": {
   "codemirror_mode": {
    "name": "ipython",
    "version": 3
   },
   "file_extension": ".py",
   "mimetype": "text/x-python",
   "name": "python",
   "nbconvert_exporter": "python",
   "pygments_lexer": "ipython3",
   "version": "3.7.3"
  }
 },
 "nbformat": 4,
 "nbformat_minor": 2
}
